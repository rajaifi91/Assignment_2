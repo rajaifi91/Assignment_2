{
 "cells": [
  {
   "cell_type": "markdown",
   "metadata": {},
   "source": [
    "# Finding out Percentage of Marks"
   ]
  },
  {
   "cell_type": "code",
   "execution_count": 1,
   "metadata": {},
   "outputs": [
    {
     "name": "stdout",
     "output_type": "stream",
     "text": [
      "Enter your name : Irfan\n",
      "Enter your Roll Number :426\n",
      "Enter Marks of English : 89\n",
      "Enter Marks of Urdu : 97\n",
      "Enter Marks of Mathematics :98\n",
      "Enter Marks of Chemistry :87\n",
      "Enter Marks of Physics :78\n",
      "Enter Marks of Biology :90\n",
      "\n",
      "Bahria University\n",
      "Fall 2019\n",
      "\n",
      "Name = Irfan\n",
      "Roll Number = 426\n",
      "\n",
      "English = 89.0\n",
      "Urdu = 97.0\n",
      "Mathematics = 98.0\n",
      "Chemistry = 87.0\n",
      "Physics = 78.0\n",
      "Biology = 90.0\n",
      "\n",
      "\n",
      "Total = 539.0\n",
      "Percentage = 89.83333333333333\n",
      "\n",
      "\n"
     ]
    }
   ],
   "source": [
    "name = input(\"Enter your name : \")\n",
    "rollno = input(\"Enter your Roll Number :\")\n",
    "\n",
    "eng = float(input(\"Enter Marks of English : \"))\n",
    "urdu = float(input(\"Enter Marks of Urdu : \"))\n",
    "maths = float(input(\"Enter Marks of Mathematics :\"))\n",
    "chem = float(input(\"Enter Marks of Chemistry :\"))\n",
    "phy = float(input(\"Enter Marks of Physics :\"))\n",
    "bio = float(input(\"Enter Marks of Biology :\"))\n",
    "\n",
    "\n",
    "total = eng + urdu + maths + chem + phy + bio\n",
    "percentage = (total/600)*100\n",
    "\n",
    "\n",
    "message = \"\"\"\n",
    "Bahria University\n",
    "Fall 2019\n",
    "\n",
    "Name = {}\n",
    "Roll Number = {}\n",
    "\n",
    "English = {}\n",
    "Urdu = {}\n",
    "Mathematics = {}\n",
    "Chemistry = {}\n",
    "Physics = {}\n",
    "Biology = {}\n",
    "\n",
    "\n",
    "Total = {}\n",
    "Percentage = {}\n",
    "\n",
    "\"\"\"\n",
    "\n",
    "message = message.format(name,rollno,eng,urdu,maths,chem,phy,bio,total, percentage)\n",
    "\n",
    "print(message)"
   ]
  },
  {
   "cell_type": "code",
   "execution_count": null,
   "metadata": {},
   "outputs": [],
   "source": []
  }
 ],
 "metadata": {
  "kernelspec": {
   "display_name": "Python 3",
   "language": "python",
   "name": "python3"
  },
  "language_info": {
   "codemirror_mode": {
    "name": "ipython",
    "version": 3
   },
   "file_extension": ".py",
   "mimetype": "text/x-python",
   "name": "python",
   "nbconvert_exporter": "python",
   "pygments_lexer": "ipython3",
   "version": "3.7.4"
  }
 },
 "nbformat": 4,
 "nbformat_minor": 2
}
